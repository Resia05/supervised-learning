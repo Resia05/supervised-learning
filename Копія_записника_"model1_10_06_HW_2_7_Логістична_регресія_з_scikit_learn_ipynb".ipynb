{
  "nbformat": 4,
  "nbformat_minor": 0,
  "metadata": {
    "colab": {
      "provenance": [],
      "toc_visible": true,
      "include_colab_link": true
    },
    "kernelspec": {
      "name": "python3",
      "display_name": "Python 3"
    },
    "language_info": {
      "name": "python"
    }
  },
  "cells": [
    {
      "cell_type": "markdown",
      "metadata": {
        "id": "view-in-github",
        "colab_type": "text"
      },
      "source": [
        "<a href=\"https://colab.research.google.com/github/Resia05/supervised-learning/blob/main/%D0%9A%D0%BE%D0%BF%D1%96%D1%8F_%D0%B7%D0%B0%D0%BF%D0%B8%D1%81%D0%BD%D0%B8%D0%BA%D0%B0_%22model1_10_06_HW_2_7_%D0%9B%D0%BE%D0%B3%D1%96%D1%81%D1%82%D0%B8%D1%87%D0%BD%D0%B0_%D1%80%D0%B5%D0%B3%D1%80%D0%B5%D1%81%D1%96%D1%8F_%D0%B7_scikit_learn_ipynb%22.ipynb\" target=\"_parent\"><img src=\"https://colab.research.google.com/assets/colab-badge.svg\" alt=\"Open In Colab\"/></a>"
      ]
    },
    {
      "cell_type": "markdown",
      "source": [
        "# Імпорт бібліотек"
      ],
      "metadata": {
        "id": "zjJoi3_RImeb"
      }
    },
    {
      "cell_type": "code",
      "source": [
        "from google.colab import drive\n",
        "drive.mount('/content/drive')"
      ],
      "metadata": {
        "colab": {
          "base_uri": "https://localhost:8080/"
        },
        "id": "2j45Qz6VN6fC",
        "outputId": "8da2d4de-81a7-490e-a999-3eb865b2661e"
      },
      "execution_count": 1,
      "outputs": [
        {
          "output_type": "stream",
          "name": "stdout",
          "text": [
            "Mounted at /content/drive\n"
          ]
        }
      ]
    },
    {
      "cell_type": "code",
      "source": [
        "import pandas as pd\n",
        "from sklearn.model_selection import train_test_split\n",
        "from sklearn.preprocessing import MinMaxScaler\n",
        "from sklearn.preprocessing import StandardScaler\n",
        "import matplotlib.pyplot as plt\n",
        "import seaborn as sns\n",
        "import scipy.stats as stats\n",
        "from scipy.stats import zscore\n",
        "import numpy as np\n",
        "from sklearn.preprocessing import OneHotEncoder\n",
        "from sklearn.linear_model import LogisticRegression\n",
        "from sklearn.metrics import accuracy_score\n",
        "from sklearn.metrics import confusion_matrix\n",
        "from sklearn.metrics import roc_curve, auc, f1_score\n",
        "from sklearn.metrics import roc_auc_score\n",
        "import joblib\n",
        "import warnings"
      ],
      "metadata": {
        "id": "cf6rc5aHN6cv"
      },
      "execution_count": 2,
      "outputs": []
    },
    {
      "cell_type": "markdown",
      "source": [
        "# Завантаження даних"
      ],
      "metadata": {
        "id": "6DuFKh-6IrEL"
      }
    },
    {
      "cell_type": "markdown",
      "source": [
        "В цьому домашньому завданні ми побудуємо рішення задачі логістичної регресії і створимо ваш перший submission на змагання на Kaggle. Усі кроки були розглянуті в лекції та містяться в ноутбуці `Логістична регресія з ScikitLearn. Повна ML задача.ipynb`, але тепер ми їх адаптуємо до іншої задачі - все як в реальному житті, коли ви знайшли код у відкритих джерелах і адаптуєте на проєкті 😉\n",
        "\n",
        "**Погнали! 🚀🚀🚀**\n",
        "\n",
        "-----------\n",
        "\n",
        "\n",
        "\n",
        "0. Завантажте дані `train.csv`, `test.csv`, `sample_submission.csv` зі змагання на Kaggle [\"Bank Customer Churn Prediction (DLU Course)\"](https://www.kaggle.com/t/7c080c5d8ec64364a93cf4e8f880b6a0). Для завантаження потрібно долучитись до змагання (натиснути кнопку \"Join\").\n",
        "\n",
        "1. Зчитайте дані `train.csv` в pandas dataframe та розбийте їх на train і validation піднабори.\n",
        "\n",
        "  * Є такий параметр в методі train_test_split як stratified. Можливо він буде Вам корисним при розбитті даних в цій задачі. Пропоную Вам почитати про нього в документації і спробувати скористатись."
      ],
      "metadata": {
        "id": "gJ2A6t3mdEed"
      }
    },
    {
      "cell_type": "code",
      "source": [
        "train_orig_df = pd.read_csv(\"/content/drive/MyDrive/Colab Notebooks/Змагання_Kaggle/train.csv\")\n",
        "test_orig_df = pd.read_csv(\"/content/drive/MyDrive/Colab Notebooks/Змагання_Kaggle/test.csv\")\n",
        "sample_submission_orig_df = pd.read_csv(\"/content/drive/MyDrive/Colab Notebooks/Змагання_Kaggle/sample_submission.csv\")"
      ],
      "metadata": {
        "id": "2J2bS-kL2cHV"
      },
      "execution_count": 3,
      "outputs": []
    },
    {
      "cell_type": "markdown",
      "source": [
        "# Визначення назв колонок, поділ даних"
      ],
      "metadata": {
        "id": "59Vs6ZBBIwOr"
      }
    },
    {
      "cell_type": "markdown",
      "source": [
        "2. Визначіть назви колонок, які сформують вхідні незалежні дані, в змінній `input_cols` та назву колонки , яка є цільовою, в змінній `target_col`. Використовуючи `input_cols` та `target_col` створіть набори даних `train_inputs`, `train_targets`, `val_inputs`, `val_targets` - де `inputs` - вхідні дані (датафрейм), `targets` - дані цільової колонки відповідного піднабору."
      ],
      "metadata": {
        "id": "YmhrsCrThfKp"
      }
    },
    {
      "cell_type": "code",
      "source": [
        "# Визначимо назви колонок\n",
        "numeric_cols = ['CreditScore', 'Age', 'Tenure', 'Balance', 'NumOfProducts', 'HasCrCard', 'IsActiveMember', 'EstimatedSalary']\n",
        "categorical_cols = ['Geography']\n",
        "id_cols = ['id']\n",
        "input_cols = id_cols + numeric_cols + categorical_cols\n",
        "target_col = 'Exited'\n",
        "\n",
        "# Виділяємо матрицю ознак та цільову змінну\n",
        "X = train_orig_df[input_cols]\n",
        "y = train_orig_df[target_col]\n",
        "\n",
        "# Розділимо дані на навчально-валідаційний і тестовий набори\n",
        "train_val_df, test_df, y_train_val, y_test = train_test_split(X, y, test_size=0.2, stratify=y, random_state=42)\n",
        "\n",
        "# Розділимо навчально-валідаційний набір на власне навчальний і валідаційний набори\n",
        "train_df, val_df, y_train, y_val = train_test_split(train_val_df, y_train_val, test_size=0.25, stratify=y_train_val, random_state=42)\n",
        "\n",
        "# Зберігаємо ID окремо для подальшого використання\n",
        "train_ids = train_df[id_cols]\n",
        "val_ids = val_df[id_cols]\n",
        "test_ids = test_df[id_cols]\n",
        "\n",
        "# Видаляємо колонку ID з даних\n",
        "train_inputs = train_df.drop(columns=id_cols)\n",
        "val_inputs = val_df.drop(columns=id_cols)\n",
        "test_inputs = test_df.drop(columns=id_cols)\n",
        "\n",
        "train_targets = y_train\n",
        "val_targets = y_val\n",
        "test_targets = y_test"
      ],
      "metadata": {
        "id": "BB1PSRP92d2y"
      },
      "execution_count": 4,
      "outputs": []
    },
    {
      "cell_type": "markdown",
      "source": [
        "3. Визначіть з допомогою `pandas.DataFrame.select_dtypes` назви колонок, які є числовими і категоріальними. Запишіть результати в `numeric_cols` та `categorical_cols` відповідно."
      ],
      "metadata": {
        "id": "BqhiVXa-iY5P"
      }
    },
    {
      "cell_type": "code",
      "source": [
        "# Визначимо числові та категоріальні колонки\n",
        "numeric_cols_test = train_orig_df.select_dtypes(include='number').columns\n",
        "categorical_cols_test = train_orig_df.select_dtypes(include='object').columns\n",
        "\n",
        "print(\"Numeric columns_test:\", numeric_cols_test)\n",
        "print(\"Categorical columns_test:\", categorical_cols_test)\n",
        "print(\"Numeric_cols:\", numeric_cols)\n",
        "print(\"Id columns:\", id_cols)"
      ],
      "metadata": {
        "id": "pz6Et14-2eRH",
        "colab": {
          "base_uri": "https://localhost:8080/"
        },
        "outputId": "6481628b-2ad4-4dcc-b6c7-14d713acb206"
      },
      "execution_count": 5,
      "outputs": [
        {
          "output_type": "stream",
          "name": "stdout",
          "text": [
            "Numeric columns_test: Index(['id', 'CustomerId', 'CreditScore', 'Age', 'Tenure', 'Balance',\n",
            "       'NumOfProducts', 'HasCrCard', 'IsActiveMember', 'EstimatedSalary',\n",
            "       'Exited'],\n",
            "      dtype='object')\n",
            "Categorical columns_test: Index(['Surname', 'Geography', 'Gender'], dtype='object')\n",
            "Numeric_cols: ['CreditScore', 'Age', 'Tenure', 'Balance', 'NumOfProducts', 'HasCrCard', 'IsActiveMember', 'EstimatedSalary']\n",
            "Id columns: ['id']\n"
          ]
        }
      ]
    },
    {
      "cell_type": "markdown",
      "source": [
        "Я використовувала далі в моделі створені вручну назви колонок. Так як я хотіла виключити ID з аналізу, але не хотіла видаляти їх повністю з моделі. Так як колонок мало, то я звірила вручну чи нічого не пропустила, але в разі великої к-сті колонок я б шукала формулу для перевірки чи все з набору даних потрапило."
      ],
      "metadata": {
        "id": "QnBGRwuMIJy5"
      }
    },
    {
      "cell_type": "markdown",
      "source": [
        "# Підготовка даних"
      ],
      "metadata": {
        "id": "IJNPf-OZI4jp"
      }
    },
    {
      "cell_type": "markdown",
      "source": [
        "4. Зробіть підготовку даних в категоріальних і числових колонках для входу в модель виходячи з освоєного на даний момент на курсі. Варіанти пеердобробки, з якими ми вже знайомі:\n",
        "  - масштабування числових ознак,\n",
        "  - заповнення пропущених значень, якщо вони є,\n",
        "  - кодування категоріальних ознак, вилучення ознак, якщо ми вважаємо, що ці дані нерелевантні для моделі аби ми не бачимо способу як їх так закодувати, аби подати на вхід моделі.\n",
        "\n",
        "  Тут є багато варіантів, як Ви побудуєте передобробку, важливо аби\n",
        "  1) передобробка мала сенс (немає сенсу заповнювати дані константою, яку ми не зрозуміло звідки взяли)   \n",
        "  2) має бути виконана принаймні одна дія передобробки\n",
        "  3) обробка маэ бути виконана коректно і для тренувальних, і для вал. даних\n",
        "  4) чим вищий у Вас врешті вийде ROС AUC скор, тим більше шансів перемогти у змаганні :)\n",
        "\n",
        "  Опишіть рішення проведення кожного з кроків передобробки. Для чого ви його робите? По завершенню виведіть по 5 значен з `train_inputs`, `val_inputs` використовуючи `display()`."
      ],
      "metadata": {
        "id": "gz3W57xXlIO2"
      }
    },
    {
      "cell_type": "markdown",
      "source": [
        "Перевірку на пропуски та інші етапи EDA я зробила в окремому файлі, щоб було зручніше запускати весь код з нуля і тестувати покращення моєї моделі"
      ],
      "metadata": {
        "id": "IWEm3Ms-JALF"
      }
    },
    {
      "cell_type": "code",
      "source": [
        "encoder = OneHotEncoder(sparse_output=False, handle_unknown='ignore')\n",
        "\n",
        "# Fit on train data and transform train data\n",
        "encoded_train_cols = encoder.fit_transform(train_inputs[categorical_cols])\n",
        "encoded_train_cols_df = pd.DataFrame(encoded_train_cols, columns=encoder.get_feature_names_out(categorical_cols), index=train_inputs.index)\n",
        "train_inputs_encoded = pd.concat([train_inputs.drop(columns=categorical_cols), encoded_train_cols_df], axis=1)\n",
        "\n",
        "# Transform validation data\n",
        "encoded_val_cols = encoder.transform(val_inputs[categorical_cols])\n",
        "encoded_val_cols_df = pd.DataFrame(encoded_val_cols, columns=encoder.get_feature_names_out(categorical_cols), index=val_inputs.index)\n",
        "val_inputs_encoded = pd.concat([val_inputs.drop(columns=categorical_cols), encoded_val_cols_df], axis=1)\n",
        "\n",
        "# Transform test data\n",
        "encoded_test_cols = encoder.transform(test_inputs[categorical_cols])\n",
        "encoded_test_cols_df = pd.DataFrame(encoded_test_cols, columns=encoder.get_feature_names_out(categorical_cols), index=test_inputs.index)\n",
        "test_inputs_encoded = pd.concat([test_inputs.drop(columns=categorical_cols), encoded_test_cols_df], axis=1)\n"
      ],
      "metadata": {
        "id": "Co2hJVl32fUz"
      },
      "execution_count": 6,
      "outputs": []
    },
    {
      "cell_type": "code",
      "source": [
        "scaler = MinMaxScaler()\n",
        "\n",
        "# Fit on train data and transform train data\n",
        "train_inputs_encoded[numeric_cols] = scaler.fit_transform(train_inputs_encoded[numeric_cols])\n",
        "\n",
        "# Transform validation data\n",
        "val_inputs_encoded[numeric_cols] = scaler.transform(val_inputs_encoded[numeric_cols])\n",
        "\n",
        "# Transform test data\n",
        "test_inputs_encoded[numeric_cols] = scaler.transform(test_inputs_encoded[numeric_cols])\n"
      ],
      "metadata": {
        "id": "JS7AT8KhPdJd"
      },
      "execution_count": 7,
      "outputs": []
    },
    {
      "cell_type": "markdown",
      "source": [
        "# Збереження наборів даних"
      ],
      "metadata": {
        "id": "PpaFH-goJMVz"
      }
    },
    {
      "cell_type": "markdown",
      "source": [
        "5. Збережіть дані, що містяться в змінних `train_inputs`, `train_targets`, `val_inputs`, `val_targets` на диск в форматі `parquet`. В кінці виведіть список файлів в папці, в яку Ви зберегли файли і перевірте, чи файли збереглись. Вивести список файлів можна з `os.listdir(your_dir)` або `!ls your_dir`"
      ],
      "metadata": {
        "id": "Gk-NVTdyoAtu"
      }
    },
    {
      "cell_type": "code",
      "source": [
        "# Перетворення серій у DataFrame\n",
        "train_inputs_df = pd.DataFrame(train_inputs)\n",
        "train_targets_df = pd.DataFrame(train_targets)\n",
        "val_inputs_df = pd.DataFrame(val_inputs)\n",
        "val_targets_df = pd.DataFrame(val_targets)\n",
        "\n",
        "# Збереження даних у форматі Parquet\n",
        "train_inputs_df.to_parquet('train_inputs.parquet')\n",
        "train_targets_df.to_parquet('train_targets.parquet')  # Оновлено на train_targets_df\n",
        "val_inputs_df.to_parquet('val_inputs.parquet')\n",
        "val_targets_df.to_parquet('val_targets.parquet')\n",
        "\n",
        "# Перевірка наявності збережених файлів\n",
        "print(\"Список файлів у поточній папці:\")\n",
        "!ls"
      ],
      "metadata": {
        "id": "DteIwTkN2hve",
        "colab": {
          "base_uri": "https://localhost:8080/"
        },
        "outputId": "86be1c11-0d0b-4df2-f6e6-09d829044f37"
      },
      "execution_count": 8,
      "outputs": [
        {
          "output_type": "stream",
          "name": "stdout",
          "text": [
            "Список файлів у поточній папці:\n",
            "drive\t     train_inputs.parquet   val_inputs.parquet\n",
            "sample_data  train_targets.parquet  val_targets.parquet\n"
          ]
        }
      ]
    },
    {
      "cell_type": "markdown",
      "source": [
        "# Навчання моделі"
      ],
      "metadata": {
        "id": "pnp1tCqFJRtj"
      }
    },
    {
      "cell_type": "markdown",
      "source": [
        "6. З підготовлених вхіжних даних створіть `X_train`, `X_val` набори, які містять лише колонки, які підуть на вхід моделі. Навчіть модель бінарної класифікації з допомогою `LogisticRegression` в `scikit-learn`."
      ],
      "metadata": {
        "id": "D5_3RjSdowGF"
      }
    },
    {
      "cell_type": "code",
      "source": [
        "model = LogisticRegression()\n",
        "model.fit(train_inputs_encoded, train_targets)"
      ],
      "metadata": {
        "id": "VZUkPF-e2irB",
        "colab": {
          "base_uri": "https://localhost:8080/",
          "height": 75
        },
        "outputId": "888fe3c3-ba84-4bd1-c92e-4c5bc8e34445"
      },
      "execution_count": 9,
      "outputs": [
        {
          "output_type": "execute_result",
          "data": {
            "text/plain": [
              "LogisticRegression()"
            ],
            "text/html": [
              "<style>#sk-container-id-1 {color: black;background-color: white;}#sk-container-id-1 pre{padding: 0;}#sk-container-id-1 div.sk-toggleable {background-color: white;}#sk-container-id-1 label.sk-toggleable__label {cursor: pointer;display: block;width: 100%;margin-bottom: 0;padding: 0.3em;box-sizing: border-box;text-align: center;}#sk-container-id-1 label.sk-toggleable__label-arrow:before {content: \"▸\";float: left;margin-right: 0.25em;color: #696969;}#sk-container-id-1 label.sk-toggleable__label-arrow:hover:before {color: black;}#sk-container-id-1 div.sk-estimator:hover label.sk-toggleable__label-arrow:before {color: black;}#sk-container-id-1 div.sk-toggleable__content {max-height: 0;max-width: 0;overflow: hidden;text-align: left;background-color: #f0f8ff;}#sk-container-id-1 div.sk-toggleable__content pre {margin: 0.2em;color: black;border-radius: 0.25em;background-color: #f0f8ff;}#sk-container-id-1 input.sk-toggleable__control:checked~div.sk-toggleable__content {max-height: 200px;max-width: 100%;overflow: auto;}#sk-container-id-1 input.sk-toggleable__control:checked~label.sk-toggleable__label-arrow:before {content: \"▾\";}#sk-container-id-1 div.sk-estimator input.sk-toggleable__control:checked~label.sk-toggleable__label {background-color: #d4ebff;}#sk-container-id-1 div.sk-label input.sk-toggleable__control:checked~label.sk-toggleable__label {background-color: #d4ebff;}#sk-container-id-1 input.sk-hidden--visually {border: 0;clip: rect(1px 1px 1px 1px);clip: rect(1px, 1px, 1px, 1px);height: 1px;margin: -1px;overflow: hidden;padding: 0;position: absolute;width: 1px;}#sk-container-id-1 div.sk-estimator {font-family: monospace;background-color: #f0f8ff;border: 1px dotted black;border-radius: 0.25em;box-sizing: border-box;margin-bottom: 0.5em;}#sk-container-id-1 div.sk-estimator:hover {background-color: #d4ebff;}#sk-container-id-1 div.sk-parallel-item::after {content: \"\";width: 100%;border-bottom: 1px solid gray;flex-grow: 1;}#sk-container-id-1 div.sk-label:hover label.sk-toggleable__label {background-color: #d4ebff;}#sk-container-id-1 div.sk-serial::before {content: \"\";position: absolute;border-left: 1px solid gray;box-sizing: border-box;top: 0;bottom: 0;left: 50%;z-index: 0;}#sk-container-id-1 div.sk-serial {display: flex;flex-direction: column;align-items: center;background-color: white;padding-right: 0.2em;padding-left: 0.2em;position: relative;}#sk-container-id-1 div.sk-item {position: relative;z-index: 1;}#sk-container-id-1 div.sk-parallel {display: flex;align-items: stretch;justify-content: center;background-color: white;position: relative;}#sk-container-id-1 div.sk-item::before, #sk-container-id-1 div.sk-parallel-item::before {content: \"\";position: absolute;border-left: 1px solid gray;box-sizing: border-box;top: 0;bottom: 0;left: 50%;z-index: -1;}#sk-container-id-1 div.sk-parallel-item {display: flex;flex-direction: column;z-index: 1;position: relative;background-color: white;}#sk-container-id-1 div.sk-parallel-item:first-child::after {align-self: flex-end;width: 50%;}#sk-container-id-1 div.sk-parallel-item:last-child::after {align-self: flex-start;width: 50%;}#sk-container-id-1 div.sk-parallel-item:only-child::after {width: 0;}#sk-container-id-1 div.sk-dashed-wrapped {border: 1px dashed gray;margin: 0 0.4em 0.5em 0.4em;box-sizing: border-box;padding-bottom: 0.4em;background-color: white;}#sk-container-id-1 div.sk-label label {font-family: monospace;font-weight: bold;display: inline-block;line-height: 1.2em;}#sk-container-id-1 div.sk-label-container {text-align: center;}#sk-container-id-1 div.sk-container {/* jupyter's `normalize.less` sets `[hidden] { display: none; }` but bootstrap.min.css set `[hidden] { display: none !important; }` so we also need the `!important` here to be able to override the default hidden behavior on the sphinx rendered scikit-learn.org. See: https://github.com/scikit-learn/scikit-learn/issues/21755 */display: inline-block !important;position: relative;}#sk-container-id-1 div.sk-text-repr-fallback {display: none;}</style><div id=\"sk-container-id-1\" class=\"sk-top-container\"><div class=\"sk-text-repr-fallback\"><pre>LogisticRegression()</pre><b>In a Jupyter environment, please rerun this cell to show the HTML representation or trust the notebook. <br />On GitHub, the HTML representation is unable to render, please try loading this page with nbviewer.org.</b></div><div class=\"sk-container\" hidden><div class=\"sk-item\"><div class=\"sk-estimator sk-toggleable\"><input class=\"sk-toggleable__control sk-hidden--visually\" id=\"sk-estimator-id-1\" type=\"checkbox\" checked><label for=\"sk-estimator-id-1\" class=\"sk-toggleable__label sk-toggleable__label-arrow\">LogisticRegression</label><div class=\"sk-toggleable__content\"><pre>LogisticRegression()</pre></div></div></div></div></div>"
            ]
          },
          "metadata": {},
          "execution_count": 9
        }
      ]
    },
    {
      "cell_type": "markdown",
      "source": [
        "7. Виведіть Confusion matrix, ROC Curve, метрику AUROC та метрику F1 Score для порога класифікації 0.5 для побудованої моделі на тренувальних та валідаційних даних. Що можете сказати про якіст моделі? Вона хороша, погана, задовільна?"
      ],
      "metadata": {
        "id": "37s-m8G2pL4J"
      }
    },
    {
      "cell_type": "code",
      "source": [
        "# Прогнози на тренувальних даних\n",
        "train_preds = model.predict(train_inputs_encoded)\n",
        "train_proba = model.predict_proba(train_inputs_encoded)[:, 1]\n",
        "\n",
        "# Прогнози на валідаційних даних\n",
        "val_preds = model.predict(val_inputs_encoded)\n",
        "val_proba = model.predict_proba(val_inputs_encoded)[:, 1]\n",
        "\n",
        "# Confusion matrix\n",
        "train_cm = confusion_matrix(train_targets, train_preds)\n",
        "val_cm = confusion_matrix(val_targets, val_preds)\n",
        "\n",
        "print(\"Training Confusion Matrix:\\n\", train_cm)\n",
        "print(\"Validation Confusion Matrix:\\n\", val_cm)\n",
        "\n",
        "# ROC Curve і AUROC для тренувальних даних\n",
        "train_fpr, train_tpr, _ = roc_curve(train_targets, train_proba)\n",
        "train_auroc = roc_auc_score(train_targets, train_proba)\n",
        "\n",
        "# ROC Curve і AUROC для валідаційних даних\n",
        "val_fpr, val_tpr, _ = roc_curve(val_targets, val_proba)\n",
        "val_auroc = roc_auc_score(val_targets, val_proba)\n",
        "\n",
        "print(\"Training AUROC:\", train_auroc)\n",
        "print(\"Validation AUROC:\", val_auroc)\n",
        "\n",
        "# F1 Score для порогу 0.5\n",
        "train_f1 = f1_score(train_targets, train_preds)\n",
        "val_f1 = f1_score(val_targets, val_preds)\n",
        "\n",
        "print(\"Training F1 Score:\", train_f1)\n",
        "print(\"Validation F1 Score:\", val_f1)\n",
        "\n",
        "# Побудова ROC Curve\n",
        "plt.figure(figsize=(12, 6))\n",
        "plt.plot(train_fpr, train_tpr, label=f'Train ROC curve (area = {train_auroc:.2f})')\n",
        "plt.plot(val_fpr, val_tpr, label=f'Validation ROC curve (area = {val_auroc:.2f})')\n",
        "plt.plot([0, 1], [0, 1], 'k--', label='Random chance')\n",
        "plt.xlabel('False Positive Rate')\n",
        "plt.ylabel('True Positive Rate')\n",
        "plt.title('ROC Curve')\n",
        "plt.legend(loc='best')\n",
        "plt.show()\n"
      ],
      "metadata": {
        "id": "I02ENkyJ2jhn",
        "colab": {
          "base_uri": "https://localhost:8080/",
          "height": 738
        },
        "outputId": "6e4ed81b-f489-4e47-9202-0ae6f15026e8"
      },
      "execution_count": 10,
      "outputs": [
        {
          "output_type": "stream",
          "name": "stdout",
          "text": [
            "Training Confusion Matrix:\n",
            " [[6885  284]\n",
            " [ 876  955]]\n",
            "Validation Confusion Matrix:\n",
            " [[2275  114]\n",
            " [ 305  306]]\n",
            "Training AUROC: 0.8761691575300811\n",
            "Validation AUROC: 0.8685793246323334\n",
            "Training F1 Score: 0.6221498371335505\n",
            "Validation F1 Score: 0.5935984481086325\n"
          ]
        },
        {
          "output_type": "display_data",
          "data": {
            "text/plain": [
              "<Figure size 1200x600 with 1 Axes>"
            ],
            "image/png": "[encoded data removed]"
          },
          "metadata": {}
        }
      ]
    },
    {
      "cell_type": "markdown",
      "source": [
        "Загалом якість моделі непогана. Але потрібно шукати ще додаткові методи покращення. Також хочу спробувати навчати модель не відразу на всіх даних, а знайти кореляцію і обрати топ стовпців на яких буду навчати модель."
      ],
      "metadata": {
        "id": "c5bC2sWOJZoB"
      }
    },
    {
      "cell_type": "markdown",
      "source": [
        "8. Створіть передбачення моделі, яка передбачає завжди мажоритарний клас (той, якого більше в тренувальних даних). Порахуйте Accuracy на тренувальних та валідаційних даних для цієї моделі і тої, що ми натренували в п.6. Зробіть заключення про якість нашої моделі: якість хороша, погана, задовільна?"
      ],
      "metadata": {
        "id": "3aLarTs4rWIJ"
      }
    },
    {
      "cell_type": "code",
      "source": [
        "# Визначення мажоритарного класу у тренувальних даних\n",
        "majority_class = train_targets.mode()[0]\n",
        "\n",
        "# Передбачення мажоритарного класу для тренувальних та валідаційних даних\n",
        "train_preds_majority = [majority_class] * len(train_targets)\n",
        "val_preds_majority = [majority_class] * len(val_targets)\n",
        "\n",
        "# Обчислення точності передбачень для мажоритарного класу\n",
        "train_accuracy_majority = accuracy_score(train_targets, train_preds_majority)\n",
        "val_accuracy_majority = accuracy_score(val_targets, val_preds_majority)\n",
        "\n",
        "print(\"Accuracy for Majority Class on Training Data:\", train_accuracy_majority)\n",
        "print(\"Accuracy for Majority Class on Validation Data:\", val_accuracy_majority)\n"
      ],
      "metadata": {
        "id": "0szMoWzd2k_Y",
        "colab": {
          "base_uri": "https://localhost:8080/"
        },
        "outputId": "7805abb5-f900-47e5-9879-faf3cb52b5eb"
      },
      "execution_count": 11,
      "outputs": [
        {
          "output_type": "stream",
          "name": "stdout",
          "text": [
            "Accuracy for Majority Class on Training Data: 0.7965555555555556\n",
            "Accuracy for Majority Class on Validation Data: 0.7963333333333333\n"
          ]
        }
      ]
    },
    {
      "cell_type": "code",
      "source": [
        "# Визначення менш часто зустрічаючого класу у тренувальних даних\n",
        "# minority_class = train_targets.value_counts().idxmin()\n",
        "\n",
        "# Передбачення менш часто зустрічаючого класу для тренувальних та валідаційних даних\n",
        "# train_preds_minority = [minority_class] * len(train_targets)\n",
        "# val_preds_minority = [minority_class] * len(val_targets)\n",
        "\n",
        "# Обчислення точності передбачень для менш часто зустрічаючого класу\n",
        "# train_accuracy_minority = accuracy_score(train_targets, train_preds_minority)\n",
        "# val_accuracy_minority = accuracy_score(val_targets, val_preds_minority)\n",
        "\n",
        "# print(\"Accuracy for Minority Class on Training Data:\", train_accuracy_minority)\n",
        "# print(\"Accuracy for Minority Class on Validation Data:\", val_accuracy_minority)"
      ],
      "metadata": {
        "id": "VERsCnX7mAZO"
      },
      "execution_count": 12,
      "outputs": []
    },
    {
      "cell_type": "markdown",
      "source": [
        "Якість моделі погана, а також гірша від створеної нами. Тобто нашу модель уже можна використовувати."
      ],
      "metadata": {
        "id": "Z9jDBYylJ-QG"
      }
    },
    {
      "cell_type": "markdown",
      "source": [
        "# Збереження моделі"
      ],
      "metadata": {
        "id": "XZMtJ6H2KF9O"
      }
    },
    {
      "cell_type": "markdown",
      "source": [
        "9. Збережіть модель і інші обʼєкти, які ви хотіли б зберегти, з використанням бібліотеки joblib в файл `log_reg.joblib`. Потім завантажте модель з файлу в змінну `model_2` (цим ми тренуємось завантажувати модель з файлу на майбутнє)."
      ],
      "metadata": {
        "id": "l_3QF-hAuFgA"
      }
    },
    {
      "cell_type": "code",
      "source": [
        "# Збереження моделі\n",
        "joblib.dump(model, 'log_reg.joblib')\n",
        "\n",
        "# Завантаження моделі\n",
        "model_2 = joblib.load('log_reg.joblib')\n",
        "\n",
        "# Перевірка, що завантажена модель працює правильно\n",
        "val_preds_2 = model_2.predict(val_inputs_encoded)\n",
        "val_accuracy_2 = accuracy_score(val_targets, val_preds_2)\n",
        "print(\"Validation Accuracy of loaded model:\", val_accuracy_2)\n"
      ],
      "metadata": {
        "id": "FpeQ2qLm2oBU",
        "colab": {
          "base_uri": "https://localhost:8080/"
        },
        "outputId": "f5e56cab-c9eb-45f5-f28b-2f5aacfff4f5"
      },
      "execution_count": 13,
      "outputs": [
        {
          "output_type": "stream",
          "name": "stdout",
          "text": [
            "Validation Accuracy of loaded model: 0.8603333333333333\n"
          ]
        }
      ]
    },
    {
      "cell_type": "markdown",
      "source": [
        "10. Ознайомтесь з роботою наведеної функції `predict_raw_df`. Ця функція робить підготовку даних (масштабування числових колонок і кодування категоріальних) і виводить ймовірності належності до класу 1 для кожного рядка в наданому наборі.\n",
        "\n",
        "Доповніть або внесіть зміни у функцію з врахуванням вашого препроцесингу даних."
      ],
      "metadata": {
        "id": "E_b1hrHUvQpb"
      }
    },
    {
      "cell_type": "code",
      "source": [
        "warnings.filterwarnings(\"ignore\")\n",
        "\n",
        "def predict_raw_df(scaler, encoder, numeric_cols, categorical_cols, input_df: pd.DataFrame):\n",
        "    # Масштабування числових колонок\n",
        "    input_df_scaled = scaler.transform(input_df[numeric_cols])\n",
        "    input_df_scaled_df = pd.DataFrame(input_df_scaled, columns=numeric_cols)\n",
        "\n",
        "    # Кодування категоріальних колонок\n",
        "    input_df_encoded = encoder.transform(input_df[categorical_cols])\n",
        "    input_df_encoded_df = pd.DataFrame(input_df_encoded, columns=encoder.get_feature_names_out(categorical_cols))\n",
        "\n",
        "    # Побудова вхідної матриці для передбачення\n",
        "    X_input = pd.concat([input_df_scaled_df, input_df_encoded_df], axis=1)\n",
        "\n",
        "    # Передбачення ймовірностей належності до класу 1\n",
        "    prob = model.predict_proba(X_input)[:,1]\n",
        "\n",
        "    return prob\n"
      ],
      "metadata": {
        "id": "wdVmR90WSGv7"
      },
      "execution_count": 14,
      "outputs": []
    },
    {
      "cell_type": "markdown",
      "source": [
        "# Передбачення результатів за допомогою нашої моделі"
      ],
      "metadata": {
        "id": "xcnXbjQzKehC"
      }
    },
    {
      "cell_type": "markdown",
      "source": [
        "11. Зчитайте дані з `test.csv` в змінну `test_raw_df`. Зробіть передбачення для кожного рядка даних з функцією з попереднього завдання і запишіть результат в нову колонку `Exited` в датафреймі `test_raw_df`."
      ],
      "metadata": {
        "id": "W8rRDFfExV40"
      }
    },
    {
      "cell_type": "code",
      "source": [
        "test_raw_df = test_orig_df\n"
      ],
      "metadata": {
        "id": "LyWEdGWx2u6d"
      },
      "execution_count": 21,
      "outputs": []
    },
    {
      "cell_type": "markdown",
      "source": [
        "Тут я заповнюю дані, як було в наших початкових даних, тобто 0 та 1. Але в кінцевом сабмішині я буду залишати ймовірності, так як було вказано в умові завдання."
      ],
      "metadata": {
        "id": "v6ic5psGKS-l"
      }
    },
    {
      "cell_type": "code",
      "source": [
        "# Здійснюємо передбачення для колонки Exited\n",
        "predictions = predict_raw_df(scaler, encoder, numeric_cols, categorical_cols, test_raw_df)\n",
        "predictions_binary = (predictions >= 0.5).astype(int)\n",
        "\n",
        "# Записуємо передбачені значення у колонку Exited\n",
        "test_raw_df['Exited'] = predictions_binary\n",
        "\n",
        "# Виводимо перші 5 рядків фінального датасету\n",
        "print(test_raw_df.head())\n",
        "\n",
        "# Записуємо результат у файл submission_log_reg.csv\n",
        "test_raw_df.to_csv('submission_log_reg_2.csv', index=False)\n"
      ],
      "metadata": {
        "colab": {
          "base_uri": "https://localhost:8080/"
        },
        "id": "0xuzm96WY1A9",
        "outputId": "a6d563c2-2321-4192-ee70-28b4ba42641b"
      },
      "execution_count": 16,
      "outputs": [
        {
          "output_type": "stream",
          "name": "stdout",
          "text": [
            "      id  CustomerId     Surname  CreditScore Geography Gender   Age  Tenure  \\\n",
            "0  15000  15594796.0         Chu        584.0   Germany   Male  30.0     2.0   \n",
            "1  15001  15642821.0       Mazzi        551.0    France   Male  39.0     5.0   \n",
            "2  15002  15716284.0   Onyekachi        706.0    France   Male  43.0     8.0   \n",
            "3  15003  15785078.0      Martin        717.0     Spain   Male  45.0     3.0   \n",
            "4  15004  15662955.0  Kenechukwu        592.0     Spain   Male  43.0     8.0   \n",
            "\n",
            "     Balance  NumOfProducts  HasCrCard  IsActiveMember  EstimatedSalary  \\\n",
            "0  146053.66            1.0        1.0             1.0        157891.86   \n",
            "1       0.00            2.0        1.0             1.0         67431.28   \n",
            "2       0.00            2.0        1.0             0.0        156768.45   \n",
            "3       0.00            1.0        1.0             1.0        166909.87   \n",
            "4       0.00            2.0        1.0             1.0        143681.97   \n",
            "\n",
            "   Exited  \n",
            "0       0  \n",
            "1       0  \n",
            "2       0  \n",
            "3       0  \n",
            "4       0  \n"
          ]
        }
      ]
    },
    {
      "cell_type": "markdown",
      "source": [
        "12. Зчитайте файл 'sample_submission.csv' і зповніть колонку `Exited` передбаченими вашою моделлю значеннями для кожного відповідного `id` клієнта.\n",
        "Виведіть перші 5 рядків фінального датасету, збережіть результат в файл `submission_log_reg.csv` (УВАГА! не запишіть випадково ще індекси рядків!) і здайте цей файл на Kaggle зі свого профіля натиснувши `Submit Prediction`."
      ],
      "metadata": {
        "id": "ZHZciHxEx7IZ"
      }
    },
    {
      "cell_type": "code",
      "source": [
        "# Зчитуємо файл 'sample_submission.csv'\n",
        "sample_submission_df = sample_submission_orig_df\n",
        "print(sample_submission_df.columns)"
      ],
      "metadata": {
        "colab": {
          "base_uri": "https://localhost:8080/"
        },
        "id": "Y6UFh7jaZVGy",
        "outputId": "fa406913-8f8e-4c85-9d20-d18b1dc6c688"
      },
      "execution_count": 18,
      "outputs": [
        {
          "output_type": "stream",
          "name": "stdout",
          "text": [
            "Index(['id', 'Exited'], dtype='object')\n"
          ]
        }
      ]
    },
    {
      "cell_type": "markdown",
      "source": [
        "Я закоемнтувала збереження файлів, щоб вони не перезберігались щоразу після запуску коду, так як я планую ще далі пробувти покращувати модель."
      ],
      "metadata": {
        "id": "JKqDKM4pKo8z"
      }
    },
    {
      "cell_type": "code",
      "source": [
        "# 1. Передбачення\n",
        "predictions = predict_raw_df(scaler, encoder, numeric_cols, categorical_cols, test_raw_df)\n",
        "test_raw_df['Exited'] = predictions\n",
        "\n",
        "# 2. Встановдення порогу для бінарних передбачень\n",
        "threshold = 0.5\n",
        "sample_submission_df['Exited'] = (predictions > threshold).astype(int)\n",
        "\n",
        "# 3. Збереження результатів\n",
        "sample_submission_df['Exited'] = test_raw_df['Exited']\n",
        "\n",
        "# 4. Збереження файлу\n",
        "# sample_submission_df.to_csv('submission_log_reg_1.csv', index=False)\n",
        "# sample_submission_df"
      ],
      "metadata": {
        "id": "HjkKnrll2wNA"
      },
      "execution_count": 19,
      "outputs": []
    },
    {
      "cell_type": "code",
      "source": [
        "# Здійснюємо передбачення для колонки Exited\n",
        "predictions = predict_raw_df(scaler, encoder, numeric_cols, categorical_cols, test_raw_df)\n",
        "predictions_binary = (predictions >= 0.5).astype(int)\n",
        "\n",
        "# Встановлюємо поріг для бінарних передбачень\n",
        "threshold = 0.5\n",
        "sample_submission_df['Exited'] = (predictions_binary > threshold).astype(int)\n",
        "\n",
        "# Збереження результатів\n",
        "# sample_submission_df.to_csv('submission_log_reg_2.csv', index=False)\n",
        "# sample_submission_df"
      ],
      "metadata": {
        "id": "t_Ec-RXCgZoQ"
      },
      "execution_count": 20,
      "outputs": []
    }
  ]
}