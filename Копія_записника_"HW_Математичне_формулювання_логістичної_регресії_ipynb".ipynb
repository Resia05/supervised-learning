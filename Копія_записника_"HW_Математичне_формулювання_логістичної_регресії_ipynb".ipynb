{
  "nbformat": 4,
  "nbformat_minor": 0,
  "metadata": {
    "colab": {
      "provenance": [],
      "include_colab_link": true
    },
    "kernelspec": {
      "name": "python3",
      "display_name": "Python 3"
    },
    "language_info": {
      "name": "python"
    }
  },
  "cells": [
    {
      "cell_type": "markdown",
      "metadata": {
        "id": "view-in-github",
        "colab_type": "text"
      },
      "source": [
        "<a href=\"https://colab.research.google.com/github/Resia05/supervised-learning/blob/main/%D0%9A%D0%BE%D0%BF%D1%96%D1%8F_%D0%B7%D0%B0%D0%BF%D0%B8%D1%81%D0%BD%D0%B8%D0%BA%D0%B0_%22HW_%D0%9C%D0%B0%D1%82%D0%B5%D0%BC%D0%B0%D1%82%D0%B8%D1%87%D0%BD%D0%B5_%D1%84%D0%BE%D1%80%D0%BC%D1%83%D0%BB%D1%8E%D0%B2%D0%B0%D0%BD%D0%BD%D1%8F_%D0%BB%D0%BE%D0%B3%D1%96%D1%81%D1%82%D0%B8%D1%87%D0%BD%D0%BE%D1%97_%D1%80%D0%B5%D0%B3%D1%80%D0%B5%D1%81%D1%96%D1%97_ipynb%22.ipynb\" target=\"_parent\"><img src=\"https://colab.research.google.com/assets/colab-badge.svg\" alt=\"Open In Colab\"/></a>"
      ]
    },
    {
      "cell_type": "markdown",
      "source": [
        "В цьому домашньому завданні ми реалізуємо логістичну регресію на `numpy`.\n",
        "Ці завдання допоможуть вам ґрунтовно засвоїти основні концепції логістичної регресії та реалізувати їх на практиці 🔥\n",
        "\n",
        "#### Завдання 1: Реалізація функції сигмоїди\n",
        "1. З використанням `numpy` напишіть функцію `sigmoid(z)` для обчислення значення сигмоїди згідно з формулою:\n",
        "   $$\n",
        "   \\sigma(z) = \\frac{1}{1 + e^{-z}}\n",
        "   $$\n",
        "2. Використовуючи цю функцію, обчисліть значення сигмоїди для наступних даних: $ z = [-2, -1, 0, 1, 2] $. Виведіть результат обчислень.\n"
      ],
      "metadata": {
        "id": "KxRmdyv5CIZe"
      }
    },
    {
      "cell_type": "code",
      "source": [
        "import numpy as np\n",
        "\n",
        "def sigmoid(z):\n",
        "  return 1 / (1+ np.exp(-z))\n"
      ],
      "metadata": {
        "id": "v9ilfXulL2wP"
      },
      "execution_count": 1,
      "outputs": []
    },
    {
      "cell_type": "code",
      "source": [
        "z = np.array([-2, -1, 0, 1, 2])\n",
        "sigmoid(z).round(4)"
      ],
      "metadata": {
        "colab": {
          "base_uri": "https://localhost:8080/"
        },
        "id": "g-RiCJt21ZkZ",
        "outputId": "e1b73837-2fa7-482c-9fba-566acaed3fba"
      },
      "execution_count": 4,
      "outputs": [
        {
          "output_type": "execute_result",
          "data": {
            "text/plain": [
              "array([0.1192, 0.2689, 0.5   , 0.7311, 0.8808])"
            ]
          },
          "metadata": {},
          "execution_count": 4
        }
      ]
    },
    {
      "cell_type": "markdown",
      "source": [
        "\n",
        "\n",
        "#### Завдання 2: Реалізація функції гіпотези для логістичної регресії\n",
        "1. Напишіть функцію `hypothesis(theta, X)`, яка обчислює гіпотезу для логістичної регресії, використовуючи функцію сигмоїди. Формула гіпотези:\n",
        "   $$\n",
        "   h_\\theta(x) = \\sigma(\\theta^T x) = \\frac{1}{1 + e^{-\\theta^T x}}\n",
        "   $$\n",
        "2. Використайте функцію `hypothesis` для обчислення значень гіпотези для наступних даних:\n",
        "   \n",
        "   $\\theta = [0.5, -0.5]$\n",
        "   \n",
        "   $X = \\begin{bmatrix} 1 & 2 \\\\ 1 & -1 \\\\ 1 & 0 \\\\ 1 & 1 \\end{bmatrix}$\n",
        "\n",
        "  Виведіть результат обчислень.\n"
      ],
      "metadata": {
        "id": "LVd_jCGNCR1F"
      }
    },
    {
      "cell_type": "code",
      "source": [
        "def hypothesis(theta, X):\n",
        "    return sigmoid(np.dot(X, theta))\n",
        "\n",
        "theta = np.array([0.5, -0.5])\n",
        "X = np.array([[1, 2], [1, -1], [1, 0], [1, 1]])\n",
        "hypothesis(theta, X)\n"
      ],
      "metadata": {
        "id": "dKDHv-YtL3TA",
        "colab": {
          "base_uri": "https://localhost:8080/"
        },
        "outputId": "6f075d17-e66a-448b-a7c5-b85bd0e82baa"
      },
      "execution_count": 5,
      "outputs": [
        {
          "output_type": "execute_result",
          "data": {
            "text/plain": [
              "array([0.37754067, 0.73105858, 0.62245933, 0.5       ])"
            ]
          },
          "metadata": {},
          "execution_count": 5
        }
      ]
    },
    {
      "cell_type": "markdown",
      "source": [
        "#### Завдання 3: Реалізація функції для підрахунку градієнтів фукнції втрат\n",
        "1. Напишіть функцію `compute_gradient(theta, X, y)`, яка обчислює градієнти функції втрат для логістичної регресії. Формула для обчислення градієнта:\n",
        "   $$\n",
        "   \\frac{\\partial L(\\theta)}{\\partial \\theta_j} = \\frac{1}{m} \\sum_{i=1}^{m} \\left[ (h_\\theta(x^{(i)}) - y^{(i)}) x_j^{(i)} \\right]\n",
        "   $$\n",
        "2. Використайте функцію `compute_gradient` для обчислення градієнтів для наступних даних:\n",
        "\n",
        "  $\\theta = [0.5, -0.5]$\n",
        "\n",
        "  $X = \\begin{bmatrix} 1 & 2 \\\\ 1 & -1 \\\\ 1 & 0 \\\\ 1 & 1 \\end{bmatrix}$\n",
        "\n",
        "  $y = [1, 0, 1, 0]$\n",
        "\n",
        "  Виведіть результат обчислень."
      ],
      "metadata": {
        "id": "MWASH4Z4ClTo"
      }
    },
    {
      "cell_type": "code",
      "source": [
        "def compute_gradient(theta, X, y):\n",
        "    m = len(y)\n",
        "    h = hypothesis(theta, X)\n",
        "    gradient = (1 / m) * np.dot(X.T, (h - y))\n",
        "    return gradient\n",
        "\n",
        "theta = np.array([0.5, -0.5])\n",
        "X = np.array([[1, 2], [1, -1], [1, 0], [1, 1]])\n",
        "y = np.array([1, 0, 1, 0])\n",
        "\n",
        "compute_gradient(theta, X, y)"
      ],
      "metadata": {
        "id": "0DM4xqZCL32i",
        "colab": {
          "base_uri": "https://localhost:8080/"
        },
        "outputId": "905239e5-6277-4565-bddf-cc3f47bc6748"
      },
      "execution_count": 6,
      "outputs": [
        {
          "output_type": "execute_result",
          "data": {
            "text/plain": [
              "array([ 0.05776464, -0.36899431])"
            ]
          },
          "metadata": {},
          "execution_count": 6
        }
      ]
    },
    {
      "cell_type": "markdown",
      "source": [
        "\n",
        "#### Завдання 4: Реалізація повного батч градієнтного спуску\n",
        "\n",
        "**Задача:**\n",
        "1. Напишіть функцію `full_batch_gradient_descent(X, y, lr=0.1, epochs=100)`, яка реалізує алгоритм Full градієнтного спуску для логістичної регресії. Використовуйте такі формули:\n",
        "   - Гіпотеза: $ h_\\theta(x) = \\sigma(\\theta^T x) $\n",
        "   - Оновлення параметрів: $ \\theta_j := \\theta_j - \\alpha \\frac{\\partial L(\\theta)}{\\partial \\theta_j} $\n",
        "2. Використайте функцію `full_batch_gradient_descent` для обчислення параметрів моделі на наступних даних:\n",
        "\n",
        "  $X = \\begin{bmatrix} 1 & 2 \\\\ 1 & -1 \\\\ 1 & 0 \\\\ 1 & 1 \\end{bmatrix}$\n",
        "\n",
        "  $y = [1, 0, 1, 0]$\n",
        "\n",
        "  Увага! Матриця $X$ вже має стовпець одиниць і передбачається, що це. - стовпець для intercept - параметра зсуву.\n",
        "\n",
        "  Виведіть результат обчислень.\n"
      ],
      "metadata": {
        "id": "nOtJEtdnC1K9"
      }
    },
    {
      "cell_type": "code",
      "source": [
        "def full_batch_gradient_descent(X, y, lr=0.1, epochs=100):\n",
        "    theta = np.zeros(X.shape[1])\n",
        "    for _ in range(epochs):\n",
        "        gradient = compute_gradient(theta, X, y)\n",
        "        theta -= lr * gradient\n",
        "    return theta\n",
        "\n",
        "# Test the function\n",
        "full_batch_gradient_descent(X, y)"
      ],
      "metadata": {
        "id": "fHtUOTxXL4Yy",
        "colab": {
          "base_uri": "https://localhost:8080/"
        },
        "outputId": "2cd6bc6b-cc73-4637-9d60-bcfefa7a5ce5"
      },
      "execution_count": 7,
      "outputs": [
        {
          "output_type": "execute_result",
          "data": {
            "text/plain": [
              "array([-0.2893693 ,  0.77655125])"
            ]
          },
          "metadata": {},
          "execution_count": 7
        }
      ]
    },
    {
      "cell_type": "code",
      "source": [
        "theta_final = full_batch_gradient_descent(X, y)"
      ],
      "metadata": {
        "id": "PwPjMYUhOKlP"
      },
      "execution_count": 9,
      "outputs": []
    },
    {
      "cell_type": "markdown",
      "source": [
        "#### Завдання 5. Обчислення точності моделі\n",
        "\n",
        "1. Напишіть функцію `predict_proba(theta, X)`, яка використовує знайдені параметри $\\theta$ для обчислення ймовірностей належності поточного прикладу з даних до класу $y=1$ на основі значень $\\sigma(\\theta^T x)$.\n",
        "\n",
        "2. Напишіть функцію `predict(theta, X, threshold=0.5)`, яка обчислює клас з передбаченої імовірності належності екземпляра до класу 1 з порогом 0.5. Тобто якщо ймовірність менше 0.5, то передбачаємо клас 0, інакше клас 1.\n",
        "\n",
        "3. Напишіть функцію `accuracy(y_true, y_pred)`, яка обчислює точність моделі, визначивши частку правильно передбачених класів.\n",
        "\n",
        "  Формула метрики Accuracy:\n",
        "  $$\n",
        "  \\text{Accuracy} = \\frac{\\sum_{i=1}^{m} I(\\hat{{y}^{(i)}} = y^{(i)})}{m}\n",
        "  $$\n",
        "\n",
        "  де $\\hat{{y}^{(i)}}$ - передбачене значення класу, $I$ - індикаторна функція (яка дорівнює 1, якщо умова виконується, і 0 - якщо ні), $m$ - кількість прикладів.\n",
        "\n",
        "4. Обчисліть з використанням даних в завданні 4 $X$, $y$ та обчислених коефіцієнтах $\\theta$ та виведіть на екран:\n",
        "  - передбачені моделлю імовірності належності кожного з екземплярів в матриці `X` до класу 1\n",
        "  - класи кожного екземпляра з матриці `X`\n",
        "  - точність моделі."
      ],
      "metadata": {
        "id": "E4iZV55cE5f3"
      }
    },
    {
      "cell_type": "code",
      "source": [
        "def predict_proba(theta, X):\n",
        "    return hypothesis(theta, X)\n",
        "\n",
        "def predict(theta, X, threshold=0.5):\n",
        "    probabilities = predict_proba(theta, X)\n",
        "    return (probabilities >= threshold).astype(int)\n",
        "\n",
        "def accuracy(y_true, y_pred):\n",
        "    return np.mean(y_true == y_pred)\n",
        "\n",
        "# Test the functions\n",
        "probabilities = predict_proba(theta_final, X)\n",
        "predicted_classes = predict(theta_final, X)\n",
        "model_accuracy = accuracy(y, predicted_classes)\n",
        "\n",
        "print(\"Predicted probabilities:\", probabilities)\n",
        "print(\"Predicted classes:\", predicted_classes)\n",
        "print(\"Model accuracy:\", model_accuracy)\n"
      ],
      "metadata": {
        "id": "qON93-GBL6Hd",
        "colab": {
          "base_uri": "https://localhost:8080/"
        },
        "outputId": "d62631c6-e3d5-42f3-ec68-cfacad32f4ba"
      },
      "execution_count": 10,
      "outputs": [
        {
          "output_type": "stream",
          "name": "stdout",
          "text": [
            "Predicted probabilities: [0.77966809 0.25617965 0.42815828 0.61944235]\n",
            "Predicted classes: [1 0 0 1]\n",
            "Model accuracy: 0.5\n"
          ]
        }
      ]
    },
    {
      "cell_type": "markdown",
      "source": [
        "Так, як точність моделі 0,5 трохи замала, то я запитала як можна виправити це і чат запропонував спроувати змінити к-сть епох та швидкість навчання"
      ],
      "metadata": {
        "id": "Ui3SwM1sPN1g"
      }
    },
    {
      "cell_type": "code",
      "source": [
        "import numpy as np\n",
        "\n",
        "def sigmoid(z):\n",
        "    return 1 / (1 + np.exp(-z))\n",
        "\n",
        "def hypothesis(theta, X):\n",
        "    return sigmoid(np.dot(X, theta))\n",
        "\n",
        "def compute_gradient(theta, X, y):\n",
        "    m = len(y)\n",
        "    h = hypothesis(theta, X)\n",
        "    gradient = (1 / m) * np.dot(X.T, (h - y))\n",
        "    return gradient\n",
        "\n",
        "def full_batch_gradient_descent(X, y, lr=0.01, epochs=1000):\n",
        "    theta = np.zeros(X.shape[1])\n",
        "    for epoch in range(epochs):\n",
        "        gradient = compute_gradient(theta, X, y)\n",
        "        theta = theta - lr * gradient\n",
        "    return theta\n",
        "\n",
        "# Дані\n",
        "X = np.array([[1, 2], [1, -1], [1, 0], [1, 1]])\n",
        "y = np.array([1, 0, 1, 0])\n",
        "\n",
        "# Навчання\n",
        "theta = full_batch_gradient_descent(X, y, lr=0.01, epochs=1000)\n",
        "print(\"Learned parameters (theta):\", theta)\n",
        "\n",
        "# Обчислення передбачених ймовірностей\n",
        "def predict_proba(theta, X):\n",
        "    return hypothesis(theta, X)\n",
        "\n",
        "# Обчислення передбачених класів\n",
        "def predict(theta, X, threshold=0.5):\n",
        "    return (predict_proba(theta, X) >= threshold).astype(int)\n",
        "\n",
        "# Обчислення точності\n",
        "def accuracy(y_true, y_pred):\n",
        "    return np.mean(y_true == y_pred)\n",
        "\n",
        "# Передбачення\n",
        "probabilities = predict_proba(theta, X)\n",
        "predicted_classes = predict(theta, X)\n",
        "accuracy_value = accuracy(y, predicted_classes)\n",
        "\n",
        "print(\"Predicted probabilities:\", probabilities)\n",
        "print(\"Predicted classes:\", predicted_classes)\n",
        "print(\"Model accuracy:\", accuracy_value)\n"
      ],
      "metadata": {
        "colab": {
          "base_uri": "https://localhost:8080/"
        },
        "id": "tiVdWRwLPbTL",
        "outputId": "ad778012-cbd0-40b8-eeb7-34ef6565a432"
      },
      "execution_count": 11,
      "outputs": [
        {
          "output_type": "stream",
          "name": "stdout",
          "text": [
            "Learned parameters (theta): [-0.28810244  0.774774  ]\n",
            "Predicted probabilities: [0.77927485 0.25676015 0.42846849 0.61932202]\n",
            "Predicted classes: [1 0 0 1]\n",
            "Model accuracy: 0.5\n"
          ]
        }
      ]
    },
    {
      "cell_type": "markdown",
      "source": [
        "Не змінилось, тому ймовірніше за все моделі потрібно більше даних для того, щоб покращити точність."
      ],
      "metadata": {
        "id": "7r6YTHTRPgDA"
      }
    },
    {
      "cell_type": "markdown",
      "source": [
        "Створення 1 функції, яка буде рахувати все разом."
      ],
      "metadata": {
        "id": "PVgAjDOaQL14"
      }
    },
    {
      "cell_type": "code",
      "source": [
        "import numpy as np\n",
        "\n",
        "def logistic_regression(X, y, lr=0.1, epochs=100):\n",
        "    # Ініціалізація параметрів\n",
        "    theta = np.zeros(X.shape[1])\n",
        "    m = len(y)\n",
        "\n",
        "    # Функція сигмоїди\n",
        "    def sigmoid(z):\n",
        "        return 1 / (1 + np.exp(-z))\n",
        "\n",
        "    # Гіпотеза логістичної регресії\n",
        "    def hypothesis(theta, X):\n",
        "        return sigmoid(np.dot(X, theta))\n",
        "\n",
        "    # Функція втрат (Cross-Entropy Loss)\n",
        "    def compute_loss(theta, X, y):\n",
        "        h = hypothesis(theta, X)\n",
        "        loss = -np.mean(y * np.log(h) + (1 - y) * np.log(1 - h))\n",
        "        return loss\n",
        "\n",
        "    # Градієнт функції втрат\n",
        "    def compute_gradient(theta, X, y):\n",
        "        h = hypothesis(theta, X)\n",
        "        gradient = np.dot(X.T, (h - y)) / m\n",
        "        return gradient\n",
        "\n",
        "    # Оновлення параметрів (Gradient Descent)\n",
        "    for epoch in range(epochs):\n",
        "        gradient = compute_gradient(theta, X, y)\n",
        "        theta = theta - lr * gradient\n",
        "\n",
        "    # Передбачення класів\n",
        "    def predict_classes(theta, X, threshold=0.5):\n",
        "        return (hypothesis(theta, X) >= threshold).astype(int)\n",
        "\n",
        "    # Точність моделі\n",
        "    def accuracy(y_true, y_pred):\n",
        "        return np.mean(y_true == y_pred)\n",
        "\n",
        "    # Обчислення передбачень та точності\n",
        "    predicted_classes = predict_classes(theta, X)\n",
        "    acc = accuracy(y, predicted_classes)\n",
        "\n",
        "    return theta, acc\n",
        "\n",
        "# Приклад використання\n",
        "X = np.array([[1, 2], [1, -1], [1, 0], [1, 1]])\n",
        "y = np.array([1, 0, 1, 0])\n",
        "theta, accuracy = logistic_regression(X, y)\n",
        "print(\"Learned parameters (theta):\", theta)\n",
        "print(\"Model accuracy:\", accuracy)\n"
      ],
      "metadata": {
        "colab": {
          "base_uri": "https://localhost:8080/"
        },
        "id": "vwQWOhugQjzQ",
        "outputId": "43144f13-d062-4459-ebf1-2f07cccdb7ef"
      },
      "execution_count": 12,
      "outputs": [
        {
          "output_type": "stream",
          "name": "stdout",
          "text": [
            "Learned parameters (theta): [-0.28810244  0.774774  ]\n",
            "Model accuracy: 0.5\n"
          ]
        }
      ]
    },
    {
      "cell_type": "markdown",
      "source": [
        "Функція, яка дозводить ввести нові дані після запуску, без будь якого редагування коду."
      ],
      "metadata": {
        "id": "vG8gp8loRENA"
      }
    },
    {
      "cell_type": "code",
      "source": [
        "import numpy as np\n",
        "\n",
        "def logistic_regression(X, y, lr=0.1, epochs=100):\n",
        "    # Реалізація логістичної регресії\n",
        "    theta = np.zeros(X.shape[1])  # Ініціалізація параметрів моделі\n",
        "    m = len(y)  # Кількість прикладів у наборі даних\n",
        "\n",
        "    for epoch in range(epochs):\n",
        "        h = 1 / (1 + np.exp(-np.dot(X, theta)))  # Гіпотеза логістичної регресії\n",
        "        gradient = (1 / m) * np.dot(X.T, (h - y))  # Обчислення градієнту\n",
        "        theta -= lr * gradient  # Оновлення параметрів за градієнтним спуском\n",
        "\n",
        "    # Обчислення точності моделі\n",
        "    y_pred = (1 / (1 + np.exp(-np.dot(X, theta)))) >= 0.5\n",
        "    accuracy = np.mean(y_pred == y)\n",
        "\n",
        "    return theta, accuracy\n",
        "\n",
        "def main():\n",
        "    # Введення даних з командного рядку\n",
        "    print(\"ДЛЯ ЗУПИНКИ ВВЕДЕННЯ НАТИСНІТЬ 'enter' ПРИ ПУСТИХ ЗНАЧЕННЯХ. Введіть дані для матриці X (кожен рядок на новому рядку, значення розділяються пробілами): \")\n",
        "\n",
        "    X = []\n",
        "    while True:\n",
        "        row = input().strip()\n",
        "        if not row:\n",
        "            break\n",
        "        row = list(map(float, row.split()))\n",
        "        X.append(row)\n",
        "    X = np.array(X)\n",
        "\n",
        "    # Введення даних для вектора y\n",
        "    print(\"Введіть значення для вектора y (значення розділяються пробілами):\")\n",
        "    y = list(map(int, input().split()))\n",
        "\n",
        "    # Виклик функції logistic_regression для надання передбачення\n",
        "    try:\n",
        "        theta, accuracy = logistic_regression(X, np.array(y))\n",
        "        print(f\"Передбачений клас: {theta}\")\n",
        "        print(f\"Точність моделі: {accuracy}\")\n",
        "    except Exception as e:\n",
        "        print(f\"Виникла помилка: {str(e)}\")\n",
        "\n",
        "if __name__ == \"__main__\":\n",
        "    main()\n"
      ],
      "metadata": {
        "colab": {
          "base_uri": "https://localhost:8080/"
        },
        "id": "54fegrahT21J",
        "outputId": "d87c7075-28dc-41e3-ba4a-46a2ca6003b2"
      },
      "execution_count": 22,
      "outputs": [
        {
          "output_type": "stream",
          "name": "stdout",
          "text": [
            "ДЛЯ ЗУПИНКИ ВВЕДЕННЯ НАТИСНІТЬ 'enter' ПРИ ПУСТИХ ЗНАЧЕННЯХ. Введіть дані для матриці X (кожен рядок на новому рядку, значення розділяються пробілами): \n",
            "1 3\n",
            "1 2\n",
            "1 -1\n",
            "\n",
            "Введіть значення для вектора y (значення розділяються пробілами):\n",
            "2 3 4\n",
            "Передбачений клас: [20.38997815 13.24842006]\n",
            "Точність моделі: 0.0\n"
          ]
        }
      ]
    }
  ]
}