{
  "nbformat": 4,
  "nbformat_minor": 0,
  "metadata": {
    "colab": {
      "provenance": [],
      "authorship_tag": "ABX9TyOHytJy3yqGu7kF4BlvuanO",
      "include_colab_link": true
    },
    "kernelspec": {
      "name": "python3",
      "display_name": "Python 3"
    },
    "language_info": {
      "name": "python"
    }
  },
  "cells": [
    {
      "cell_type": "markdown",
      "metadata": {
        "id": "view-in-github",
        "colab_type": "text"
      },
      "source": [
        "<a href=\"https://colab.research.google.com/github/Resia05/supervised-learning/blob/main/process_bank_churn.ipynb\" target=\"_parent\"><img src=\"https://colab.research.google.com/assets/colab-badge.svg\" alt=\"Open In Colab\"/></a>"
      ]
    },
    {
      "cell_type": "code",
      "execution_count": null,
      "metadata": {
        "id": "4_1NGSgT2ujp"
      },
      "outputs": [],
      "source": [
        "import pandas as pd\n",
        "import numpy as np\n",
        "from sklearn.model_selection import train_test_split\n",
        "from sklearn.preprocessing import MinMaxScaler, OneHotEncoder\n",
        "from sklearn.compose import ColumnTransformer\n",
        "from sklearn.pipeline import Pipeline\n",
        "from typing import Tuple, List, Dict, Any\n",
        "\n",
        "def select_columns(df: pd.DataFrame) -> Tuple[List[str], str, List[str], List[str], List[str]]:\n",
        "    \"\"\"\n",
        "    Вибирає колонки для роботи.\n",
        "    Повертає список колонок для вводу, цільову колонку, числові, категоріальні та міткові колонки.\n",
        "    \"\"\"\n",
        "    input_cols = ['CreditScore', 'Age', 'Tenure', 'Balance', 'NumOfProducts', 'HasCrCard', 'IsActiveMember', 'EstimatedSalary', 'Geography', 'Gender']\n",
        "    target_col = 'Exited'\n",
        "    numeric_cols = ['CreditScore', 'Age', 'Tenure', 'Balance', 'NumOfProducts', 'HasCrCard', 'IsActiveMember', 'EstimatedSalary']\n",
        "    categorical_cols = ['Geography']\n",
        "    label_cols = ['Gender']\n",
        "    return input_cols, target_col, numeric_cols, categorical_cols, label_cols\n",
        "\n",
        "def split_data(df: pd.DataFrame, target_col: str) -> Tuple[pd.DataFrame, pd.DataFrame]:\n",
        "    \"\"\"\n",
        "    Розбиває сирі дані на тренувальні та валідаційні набори.\n",
        "    \"\"\"\n",
        "    return train_test_split(df, test_size=0.2, stratify=df[target_col], random_state=42)\n",
        "\n",
        "def create_transformers(numeric_cols: List[str], categorical_cols: List[str], label_cols: List[str], scaler_numeric: bool) -> ColumnTransformer:\n",
        "    \"\"\"\n",
        "    Створює трансформери для числових і категоріальних колонок.\n",
        "    \"\"\"\n",
        "    transformers = []\n",
        "    if scaler_numeric:\n",
        "        numeric_transformer = Pipeline(steps=[\n",
        "            ('scaler', MinMaxScaler())\n",
        "        ])\n",
        "        transformers.append(('num', numeric_transformer, numeric_cols))\n",
        "\n",
        "    categorical_transformer = Pipeline(steps=[\n",
        "        ('onehot', OneHotEncoder(sparse_output=False, handle_unknown='ignore'))\n",
        "    ])\n",
        "    transformers.append(('cat', categorical_transformer, categorical_cols))\n",
        "\n",
        "    label_transformer = Pipeline(steps=[\n",
        "        ('map_gender', OneHotEncoder(categories=[['Female', 'Male']], drop='first', sparse_output=False))\n",
        "    ])\n",
        "    transformers.append(('lbl', label_transformer, label_cols))\n",
        "\n",
        "    preprocessor = ColumnTransformer(transformers=transformers)\n",
        "    return preprocessor\n",
        "\n",
        "def preprocess_data(raw_df: pd.DataFrame, scaler_numeric: bool = True) -> Dict[str, Any]:\n",
        "    \"\"\"\n",
        "    Попередня обробка сирих даних.\n",
        "    \"\"\"\n",
        "    input_cols, target_col, numeric_cols, categorical_cols, label_cols = select_columns(raw_df)\n",
        "    train_df, val_df = split_data(raw_df, target_col)\n",
        "    X_train = train_df[input_cols]\n",
        "    train_targets = train_df[target_col]\n",
        "    X_val = val_df[input_cols]\n",
        "    val_targets = val_df[target_col]\n",
        "\n",
        "    preprocessor = create_transformers(numeric_cols, categorical_cols, label_cols, scaler_numeric)\n",
        "    preprocessor.fit(X_train)\n",
        "\n",
        "    X_train_transformed = preprocessor.transform(X_train)\n",
        "    X_val_transformed = preprocessor.transform(X_val)\n",
        "\n",
        "    transformed_cols = preprocessor.transformers_[0][2] + preprocessor.transformers_[1][1].named_steps['onehot'].get_feature_names_out().tolist() + preprocessor.transformers_[2][1].named_steps['map_gender'].get_feature_names_out().tolist()\n",
        "\n",
        "    X_train_df = pd.DataFrame(X_train_transformed, columns=transformed_cols)\n",
        "    X_val_df = pd.DataFrame(X_val_transformed, columns=transformed_cols)\n",
        "\n",
        "    return {\n",
        "        'X_train': X_train_df,\n",
        "        'train_targets': train_targets,\n",
        "        'X_val': X_val_df,\n",
        "        'val_targets': val_targets,\n",
        "        'input_cols': input_cols,\n",
        "        'preprocessor': preprocessor\n",
        "    }\n",
        "\n",
        "def preprocess_new_data(new_df: pd.DataFrame, preprocessor: ColumnTransformer, input_cols: List[str]) -> pd.DataFrame:\n",
        "    \"\"\"\n",
        "    Попередня обробка нових даних для передбачення або оцінки моделі.\n",
        "    \"\"\"\n",
        "    return pd.DataFrame(preprocessor.transform(new_df[input_cols]), columns=preprocessor.get_feature_names_out())\n",
        "\n"
      ]
    }
  ]
}