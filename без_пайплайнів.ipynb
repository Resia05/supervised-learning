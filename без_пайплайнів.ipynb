{
  "nbformat": 4,
  "nbformat_minor": 0,
  "metadata": {
    "colab": {
      "provenance": [],
      "authorship_tag": "ABX9TyMZW/+ooanPSe2ewgdte3qe",
      "include_colab_link": true
    },
    "kernelspec": {
      "name": "python3",
      "display_name": "Python 3"
    },
    "language_info": {
      "name": "python"
    }
  },
  "cells": [
    {
      "cell_type": "markdown",
      "metadata": {
        "id": "view-in-github",
        "colab_type": "text"
      },
      "source": [
        "<a href=\"https://colab.research.google.com/github/Resia05/supervised-learning/blob/main/%D0%B1%D0%B5%D0%B7_%D0%BF%D0%B0%D0%B9%D0%BF%D0%BB%D0%B0%D0%B9%D0%BD%D1%96%D0%B2.ipynb\" target=\"_parent\"><img src=\"https://colab.research.google.com/assets/colab-badge.svg\" alt=\"Open In Colab\"/></a>"
      ]
    },
    {
      "cell_type": "code",
      "execution_count": 1,
      "metadata": {
        "id": "AxX-1fx7MPLW"
      },
      "outputs": [],
      "source": [
        "import pandas as pd\n",
        "import numpy as np\n",
        "from sklearn.model_selection import train_test_split\n",
        "from sklearn.preprocessing import MinMaxScaler, OneHotEncoder\n",
        "from sklearn.compose import ColumnTransformer\n",
        "\n",
        "def select_columns(df: pd.DataFrame) -> tuple:\n",
        "    \"\"\"\n",
        "    Вибирає колонки для роботи.\n",
        "    Повертає список колонок для вводу, цільову колонку, числові, категоріальні та міткові колонки.\n",
        "    \"\"\"\n",
        "    input_cols = ['CreditScore', 'Age', 'Tenure', 'Balance', 'NumOfProducts', 'HasCrCard', 'IsActiveMember', 'EstimatedSalary', 'Geography', 'Gender']\n",
        "    target_col = 'Exited'\n",
        "    numeric_cols = ['CreditScore', 'Age', 'Tenure', 'Balance', 'NumOfProducts', 'HasCrCard', 'IsActiveMember', 'EstimatedSalary']\n",
        "    categorical_cols = ['Geography']\n",
        "    label_cols = ['Gender']\n",
        "    return input_cols, target_col, numeric_cols, categorical_cols, label_cols\n",
        "\n",
        "def split_data(df: pd.DataFrame, target_col: str) -> tuple:\n",
        "    \"\"\"\n",
        "    Розбиває сирі дані на тренувальні та валідаційні набори.\n",
        "    \"\"\"\n",
        "    return train_test_split(df, test_size=0.2, stratify=df[target_col], random_state=42)\n",
        "\n",
        "def create_transformers(numeric_cols: list, categorical_cols: list, label_cols: list, scaler_numeric: bool) -> ColumnTransformer:\n",
        "    \"\"\"\n",
        "    Створює трансформери для числових і категоріальних колонок.\n",
        "    \"\"\"\n",
        "    transformers = []\n",
        "    if scaler_numeric:\n",
        "        scaler = MinMaxScaler()\n",
        "        transformers.append(('scaler', scaler, numeric_cols))\n",
        "\n",
        "    onehot_encoder = OneHotEncoder(sparse=False, handle_unknown='ignore')\n",
        "    transformers.append(('onehot', onehot_encoder, categorical_cols))\n",
        "\n",
        "    gender_encoder = OneHotEncoder(categories=[['Female', 'Male']], drop='first', sparse=False)\n",
        "    transformers.append(('gender', gender_encoder, label_cols))\n",
        "\n",
        "    preprocessor = ColumnTransformer(transformers=transformers)\n",
        "    return preprocessor\n",
        "\n",
        "def preprocess_data(raw_df: pd.DataFrame, scaler_numeric: bool = True) -> dict:\n",
        "    \"\"\"\n",
        "    Попередня обробка сирих даних.\n",
        "    \"\"\"\n",
        "    input_cols, target_col, numeric_cols, categorical_cols, label_cols = select_columns(raw_df)\n",
        "    train_df, val_df = split_data(raw_df, target_col)\n",
        "    X_train = train_df[input_cols]\n",
        "    train_targets = train_df[target_col]\n",
        "    X_val = val_df[input_cols]\n",
        "    val_targets = val_df[target_col]\n",
        "\n",
        "    preprocessor = create_transformers(numeric_cols, categorical_cols, label_cols, scaler_numeric)\n",
        "    preprocessor.fit(X_train)\n",
        "\n",
        "    X_train_transformed = preprocessor.transform(X_train)\n",
        "    X_val_transformed = preprocessor.transform(X_val)\n",
        "\n",
        "    transformed_cols = numeric_cols + list(preprocessor.named_transformers_['onehot'].get_feature_names_out()) + list(preprocessor.named_transformers_['gender'].get_feature_names_out())\n",
        "\n",
        "    X_train_df = pd.DataFrame(X_train_transformed, columns=transformed_cols)\n",
        "    X_val_df = pd.DataFrame(X_val_transformed, columns=transformed_cols)\n",
        "\n",
        "    return {\n",
        "        'X_train': X_train_df,\n",
        "        'train_targets': train_targets,\n",
        "        'X_val': X_val_df,\n",
        "        'val_targets': val_targets,\n",
        "        'input_cols': input_cols,\n",
        "        'preprocessor': preprocessor\n",
        "    }\n",
        "\n",
        "def preprocess_new_data(new_df: pd.DataFrame, preprocessor: ColumnTransformer, input_cols: list) -> pd.DataFrame:\n",
        "    \"\"\"\n",
        "    Попередня обробка нових даних для передбачення або оцінки моделі.\n",
        "    \"\"\"\n",
        "    return pd.DataFrame(preprocessor.transform(new_df[input_cols]), columns=preprocessor.get_feature_names_out())\n"
      ]
    }
  ]
}